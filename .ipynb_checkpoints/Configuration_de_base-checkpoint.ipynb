{
 "cells": [
  {
   "cell_type": "markdown",
   "metadata": {
    "collapsed": true,
    "pycharm": {
     "name": "#%% md\n"
    }
   },
   "source": [
    "<h1>Installation d'OpenCV sur Windows 10</h1>\n",
    "Open Source Computer Vision Library<br/>\n",
    "Installing Python, OpenCV and other packages\n",
    "\n",
    "<h2>Pré-requis techniques</h2>\n",
    "Ce projet sera développé sur l'IDE PyCharm version professionnelle. Il demande l'installation des logiciels suivants :<br>\n",
    " - <b>PyCharm</b>  <a href=\"https://www.jetbrains.com/pycharm\">https://www.jetbrains.com/pycharm/</a><br>\n",
    " - <b>Visual studio</b>  <a href=\"https://visualstudio.microsoft.com/fr/downloads/\">https://visualstudio.microsoft.com/fr/downloads/</a><br>\n",
    " - <b>Python</b>  <a href=\"https://www.python.org\">https://www.python.org</a><br>\n",
    " - <b>NumPy</b> <a href=\"https://www.numpy.org\">https://www.numpy.org</a><br>\n",
    " - <b>Matplotlib</b> <a href=\"https://www.matplotlib.org\">https://www.matplotlib.org</a><br>\n",
    " - <b>OpenCV</b> <a href=\"https://www.opencv.org\">https://www.opencv.org</a><br>\n",
    " - <b>jupyter</b> <a href=\"https://www.jupyter.org\">https://www.jupyter.org</a><br>\n",
    "La description de ces logiciels, de leur utilité et de leur procédure d'installation sont détaillés ci-après.\n",
    "\n",
    "<h1>Installation des logiciels</h1>\n",
    "<h2>Installation de Python</h2>\n",
    "aller à <a href=\"https://www.python.org/downloads\">https://www.python.org/downloads</a> et télécharger la dernière version stable.\n",
    "Lors de l'installation, activer toutes les options proposées.<br/>\n",
    "Il faut également mettre à jour pip (package manager) qui sert à l'installation des extensions pour Python.\n",
    "\n",
    "\n",
    "\n",
    "\n",
    "\n",
    "\n",
    "\n"
   ]
  },
  {
   "cell_type": "code",
   "execution_count": null,
   "metadata": {
    "pycharm": {
     "name": "#%%\n"
    }
   },
   "outputs": [],
   "source": [
    "$ python -m pip install --upgrade pip"
   ]
  },
  {
   "cell_type": "code",
   "execution_count": null,
   "metadata": {
    "pycharm": {
     "name": "#%%\n"
    }
   },
   "outputs": [],
   "source": [
    "\n"
   ]
  }
 ],
 "metadata": {
  "kernelspec": {
   "display_name": "Python 3",
   "language": "python",
   "name": "python3"
  },
  "language_info": {
   "codemirror_mode": {
    "name": "ipython",
    "version": 3
   },
   "file_extension": ".py",
   "mimetype": "text/x-python",
   "name": "python",
   "nbconvert_exporter": "python",
   "pygments_lexer": "ipython3",
   "version": "3.6.5"
  }
 },
 "nbformat": 4,
 "nbformat_minor": 1
}
