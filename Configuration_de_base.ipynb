{
 "cells": [
  {
   "cell_type": "markdown",
   "metadata": {
    "pycharm": {
     "name": "#%% md\n"
    }
   },
   "source": [
    "# Installation des logiciels requis par le livre : Mastering OpenCV 4 with Python\n",
    "Installing Python, OpenCV and other packages\n",
    "\n",
    "Résumé des installation proposées par le livre 'Mastering OpenCV 4 with Python'  Alberto Fernandez"
   ]
  },
  {
   "cell_type": "markdown",
   "metadata": {},
   "source": [
    "# Installation des logiciels\n",
    "les logiciels suivants sont à installer:\n",
    " - __PyCharm__  https://www.jetbrains.com/pycharm<br>\n",
    " - __Python__  https://www.python.org<br>\n",
    " - __NumPy__ https://www.numpy.org<br>\n",
    " - __Matplotlib__ https://www.matplotlib.org<br>\n",
    " - __OpenCV__ https://www.opencv.org<br>\n",
    " - __jupyter__ https://www.jupyter.org<br>\n",
    "La description de ces logiciels, de leur utilité et des procédures d'installation sont détaillés ci-après."
   ]
  },
  {
   "cell_type": "markdown",
   "metadata": {},
   "source": [
    "## Installation de PyCharm\n",
    "\n",
    "PyCharm est un environnement de développement intégré (IDE) utilisé pour programmer en Python.\n",
    "\n",
    "Il permet l'analyse de code et contient un débogueur graphique. Il permet également la gestion des tests unitaires, l'intégration de logiciel de gestion de versions, et supporte le développement web avec Django.\n",
    "\n",
    "Développé par l'entreprise tchèque JetBrains, c'est un logiciel multi-plateforme qui fonctionne sous Windows, Mac OS X et Linux. Il est décliné en édition professionnelle, diffusé sous licence propriétaire, et en édition communautaire diffusé sous licence Apache.\n",
    "\n",
    "Pour l'installer, aller à https://www.jetbrains.com/pycharm/\n",
    "et télécharger la dernière version de Visual Studio.\n",
    "Pour disposer de toutes les fonctionnalités utilisées dans ce mémo (jupyter entre autre), la version Professional est nécessaire."
   ]
  },
  {
   "cell_type": "markdown",
   "metadata": {},
   "source": [
    "## Installation de Python\n",
    "Python est un langage de programmation interprété, multi-paradigme et multiplateformes. Il favorise la programmation impérative structurée, fonctionnelle et orientée objet. Il est doté d'un typage dynamique fort, d'une gestion automatique de la mémoire par ramasse-miettes et d'un système de gestion d'exceptions ; il est ainsi similaire à Perl, Ruby, Scheme, Smalltalk et Tcl.\n",
    "\n",
    "Le langage Python est placé sous une licence libre proche de la licence BSD7 et fonctionne sur la plupart des plates-formes informatiques, des smartphones aux ordinateurs centraux8, de Windows à Unix avec notamment GNU/Linux en passant par macOS, ou encore Android, iOS, et peut aussi être traduit en Java ou .NET. Il est conçu pour optimiser la productivité des programmeurs en offrant des outils de haut niveau et une syntaxe simple à utiliser.\n",
    "\n",
    "Il est également apprécié par certains pédagogues qui y trouvent un langage où la syntaxe, clairement séparée des mécanismes de bas niveau, permet une initiation aisée aux concepts de base de la programmation\n",
    "\n",
    "Pour l'installer, aller à https://www.python.org/downloads et télécharger la dernière version stable.\n",
    "Lors de l'installation, activer toutes les options proposées.<br/>\n",
    "Il faut également mettre à jour pip (package manager) qui sert à l'installation des extensions pour\n",
    "Python. Pour cela il faut ouvrir une fenêtre 'invite de commande' (cmd) et exécuter la ligne çi-après.\n",
    "<p style=\"font-family:courier\">$ python -m pip install --upgrade pip</p>"
   ]
  },
  {
   "cell_type": "markdown",
   "metadata": {},
   "source": [
    "## Installation de NumPy et Matplotlib\n",
    " __NumPy__\n",
    "\n",
    "NumPy est une extension du langage de programmation Python, destinée à manipuler des matrices ou tableaux multidimensionnels ainsi que des fonctions mathématiques opérant sur ces tableaux.\n",
    "\n",
    "Plus précisément, cette bibliothèque logicielle libre et open source fournit de multiples fonctions permettant notamment de créer directement un tableau depuis un fichier ou au contraire de sauvegarder un tableau dans un fichier, et manipuler des vecteurs, matrices et polynômes.\n",
    "\n",
    "Pour l'installer, ouvrir une fenêtre invite de commande et exécuter les commandes ci-après:<br>\n",
    " <p style=\"font-family:courier\">$ pip3 install numpy</p>"
   ]
  },
  {
   "cell_type": "markdown",
   "metadata": {},
   "source": [
    "__Matplotlib__\n",
    "\n",
    "Matplotlib est une bibliothèque du langage de programmation Python destinée à tracer et visualiser des données sous formes de graphiques5. Elle peut être combinée avec les bibliothèques python de calcul scientifique NumPy et SciPy6. Matplotlib est distribuée librement et gratuitement sous une licence de style BSD4. Sa version stable actuelle (la 2.0.1 en 2017) est compatible avec la version 3 de Python.\n",
    "\n",
    "Plusieurs points rendent cette bibliothèque intéressante :\n",
    "\n",
    " - Export possible en de nombreux formats matriciels (PNG, JPEG...) et vectoriels (PDF, SVG...)\n",
    " - Documentation en ligne en quantité, nombreux exemples disponibles sur internet\n",
    " - Forte communauté très active\n",
    " - Interface pylab : reproduit fidèlement la syntaxe MATLAB\n",
    " - Bibliothèque haut niveau : idéale pour le calcul interactif\n",
    "\n",
    "Pour l'installer, ouvrir une fenêtre invite de commande et exécuter les commandes ci-après:<br>\n",
    "<p style=\"font-family:courier\">$ pip3 install matplotlib</p>\n"
   ]
  },
  {
   "cell_type": "markdown",
   "metadata": {
    "pycharm": {
     "name": "#%% md\n"
    }
   },
   "source": [
    "## Installation d'OpenCv\n",
    "\n",
    "OpenCV (pour Open Computer Vision) est une bibliothèque graphique libre, initialement développée par Intel, spécialisée dans le traitement d'images en temps réel. La société de robotique Willow Garage et la société ItSeez se sont succédé au support de cette bibliothèque. Depuis 2016 et le rachat de ItSeez par Intel, le support est de nouveau assuré par Intel.\n",
    "\n",
    "Cette bibliothèque est distribuée sous licence BSD.\n",
    "\n",
    "L'installation d'OpenCv peut se faire par la commande ci-après:\n",
    "<p style=\"font-family:courier\">$ pip install opencv-contrib-python</p>\n",
    "\n",
    "Pour moi cela n'a pas fonctionné et ja'i dû faire l'installation en suivant le tuto ci-après pour installer une version compilée sur ma machine.\n",
    "https://cv-tricks.com/how-to/installation-of-opencv-4-1-0-in-windows-10-from-source/\n",
    "\n",
    "\n",
    "Cette opération a pris du temps mais, pour moi, elle a été nécessaire pour avoir une version OpenCV fonctionnelle adaptée à mon environnement."
   ]
  },
  {
   "cell_type": "markdown",
   "metadata": {
    "pycharm": {
     "name": "#%% md\n"
    }
   },
   "source": [
    "## Installation de Jupyter Notebook\n",
    "\n",
    "Jupyter est une application web utilisée pour programmer dans plus de 40 langages de programmation, dont Python, Julia, Ruby, R, ou encore Scala2. Jupyter est une évolution du projet IPython. Jupyter permet de réaliser des calepins ou notebooks, c'est-à-dire des programmes contenant à la fois du texte en markdown et du code en Julia, Python, R... Ces calepins sont utilisés en science des données pour explorer et analyser des données.\n",
    "\n",
    "Pour l'installer, ouvrir une invite de commande et exécuter la commade ci-après.\n",
    "\n",
    "<p style=\"font-family:courier\">$ pip3 install jupyterlab</p>\n"
   ]
  }
 ],
 "metadata": {
  "kernelspec": {
   "display_name": "Python 3",
   "language": "python",
   "name": "python3"
  },
  "language_info": {
   "codemirror_mode": {
    "name": "ipython",
    "version": 3
   },
   "file_extension": ".py",
   "mimetype": "text/x-python",
   "name": "python",
   "nbconvert_exporter": "python",
   "pygments_lexer": "ipython3",
   "version": "3.6.5"
  }
 },
 "nbformat": 4,
 "nbformat_minor": 1
}